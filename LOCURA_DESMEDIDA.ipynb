{
 "cells": [
  {
   "cell_type": "code",
   "execution_count": 1,
   "metadata": {},
   "outputs": [
    {
     "name": "stderr",
     "output_type": "stream",
     "text": [
      "2024-06-02 16:31:52.115871: I tensorflow/core/platform/cpu_feature_guard.cc:210] This TensorFlow binary is optimized to use available CPU instructions in performance-critical operations.\n",
      "To enable the following instructions: AVX2 FMA, in other operations, rebuild TensorFlow with the appropriate compiler flags.\n",
      "2024-06-02 16:31:52.777421: W tensorflow/compiler/tf2tensorrt/utils/py_utils.cc:38] TF-TRT Warning: Could not find TensorRT\n"
     ]
    }
   ],
   "source": [
    "import numpy as np\n",
    "import os\n",
    "from multiprocessing import Pool, cpu_count\n",
    "import pandas as pd\n",
    "from sklearn.model_selection import train_test_split\n",
    "from sklearn.preprocessing import StandardScaler\n",
    "from sklearn.svm import SVC\n",
    "from sklearn.metrics import accuracy_score, precision_score, recall_score, f1_score, confusion_matrix\n",
    "import tensorflow as tf\n",
    "from tensorflow.keras.models import Sequential\n",
    "from tensorflow.keras.layers import Conv1D, MaxPooling1D, Flatten, Dense\n",
    "from tensorflow.keras.optimizers import Adam\n",
    "import read_data as rd"
   ]
  },
  {
   "cell_type": "code",
   "execution_count": 2,
   "metadata": {},
   "outputs": [],
   "source": [
    "# Load data\n",
    "dataset_dir = '/home/ecappiell/datasets/full'\n",
    "data_arrays, labels, class_ids = rd.process_mafaulda_data(dataset_dir)"
   ]
  },
  {
   "cell_type": "code",
   "execution_count": 3,
   "metadata": {},
   "outputs": [],
   "source": [
    "def downsample_data(data_arrays, original_sampling_rate, target_sampling_rate):\n",
    "    # Calculate the downsampling factor\n",
    "    downsampling_factor = int(original_sampling_rate / target_sampling_rate)\n",
    "\n",
    "    # Reshape data to have each row represent one channel\n",
    "    num_channels, num_samples, num_features = data_arrays.shape\n",
    "    data_arrays_reshaped = data_arrays.reshape(num_channels, num_samples * num_features)\n",
    "\n",
    "    # Downsample each channel\n",
    "    downsampled_data = []\n",
    "    for channel_data in data_arrays_reshaped:\n",
    "        downsampled_channel = []\n",
    "        for i in range(0, len(channel_data), downsampling_factor):\n",
    "            # Take the first sample in each downsampling interval\n",
    "            downsampled_channel.append(channel_data[i])\n",
    "        downsampled_data.append(downsampled_channel)\n",
    "\n",
    "    return np.array(downsampled_data).reshape(num_channels, -1, num_features)"
   ]
  },
  {
   "cell_type": "code",
   "execution_count": 5,
   "metadata": {},
   "outputs": [],
   "source": [
    "# Original sampling rate (in Hz)\n",
    "original_sampling_rate = 50 * 10**3  # 50 kHz\n",
    "\n",
    "# Target sampling rate (in Hz)\n",
    "target_sampling_rate = 1 * 10**3  # 1 kHz\n",
    "\n",
    "# Downsample the data\n",
    "data_downsampled = downsample_data(data_arrays, original_sampling_rate, target_sampling_rate)"
   ]
  }
 ],
 "metadata": {
  "kernelspec": {
   "display_name": ".venv",
   "language": "python",
   "name": "python3"
  },
  "language_info": {
   "codemirror_mode": {
    "name": "ipython",
    "version": 3
   },
   "file_extension": ".py",
   "mimetype": "text/x-python",
   "name": "python",
   "nbconvert_exporter": "python",
   "pygments_lexer": "ipython3",
   "version": "3.10.12"
  }
 },
 "nbformat": 4,
 "nbformat_minor": 2
}
