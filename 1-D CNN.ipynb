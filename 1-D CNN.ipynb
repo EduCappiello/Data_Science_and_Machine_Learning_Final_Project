{
 "cells": [
  {
   "cell_type": "code",
   "execution_count": 1,
   "metadata": {},
   "outputs": [
    {
     "name": "stderr",
     "output_type": "stream",
     "text": [
      "2024-06-04 09:39:50.352441: I tensorflow/core/platform/cpu_feature_guard.cc:210] This TensorFlow binary is optimized to use available CPU instructions in performance-critical operations.\n",
      "To enable the following instructions: AVX2 FMA, in other operations, rebuild TensorFlow with the appropriate compiler flags.\n",
      "2024-06-04 09:39:50.880969: W tensorflow/compiler/tf2tensorrt/utils/py_utils.cc:38] TF-TRT Warning: Could not find TensorRT\n"
     ]
    }
   ],
   "source": [
    "import pandas as pd\n",
    "import numpy as np\n",
    "import glob\n",
    "import os\n",
    "import matplotlib.pyplot as plt\n",
    "from sklearn.model_selection import train_test_split\n",
    "from sklearn.preprocessing import StandardScaler, LabelEncoder\n",
    "from sklearn.svm import SVC\n",
    "from sklearn.metrics import accuracy_score, precision_score, recall_score, f1_score, confusion_matrix\n",
    "import tensorflow as tf\n",
    "from tensorflow.keras.models import Sequential\n",
    "from tensorflow.keras.layers import Conv1D, MaxPooling1D, Flatten, Dense, Dropout\n",
    "from tensorflow.keras.callbacks import EarlyStopping"
   ]
  },
  {
   "cell_type": "code",
   "execution_count": 2,
   "metadata": {},
   "outputs": [],
   "source": [
    "# Function to read the data\n",
    "def dataReader(path_names):\n",
    "    data_n = pd.DataFrame()\n",
    "    for path in path_names:\n",
    "        low_data = pd.read_csv(path, header=None)\n",
    "        data_n = pd.concat([data_n, low_data], ignore_index=True)\n",
    "    return data_n\n",
    "\n",
    "def downSampler(data, a, b):\n",
    "    \"\"\"\n",
    "    data = data\n",
    "    a = start index\n",
    "    b = sampling rate\n",
    "    \"\"\"\n",
    "    data_decreased = []\n",
    "    x = b\n",
    "    for i in range(int(len(data) / x)):\n",
    "        segment = data.iloc[a:b, :].sum() / x\n",
    "        data_decreased.append(segment)\n",
    "        a += x\n",
    "        b += x\n",
    "    return pd.DataFrame(data_decreased)"
   ]
  },
  {
   "cell_type": "code",
   "execution_count": 3,
   "metadata": {},
   "outputs": [],
   "source": [
    "# Define the database path\n",
    "database_path = '/home/ecappiell/datasets/full'  # Change this to the correct path\n",
    "\n",
    "# Dictionary to store directories with their corresponding descriptive names\n",
    "directory_info = {\n",
    "    'normal': glob.glob(database_path + '/normal/*.csv'),\n",
    "    'imbalance_6g': glob.glob(database_path + '/imbalance/6g/*.csv'),\n",
    "    'imbalance_10g': glob.glob(database_path + '/imbalance/10g/*.csv'),\n",
    "    'imbalance_15g': glob.glob(database_path + '/imbalance/15g/*.csv'),\n",
    "    'imbalance_20g': glob.glob(database_path + '/imbalance/20g/*.csv'),\n",
    "    'imbalance_25g': glob.glob(database_path + '/imbalance/25g/*.csv'),\n",
    "    'imbalance_30g': glob.glob(database_path + '/imbalance/30g/*.csv'),\n",
    "    'horizontal_05': glob.glob(database_path + '/horizontal-misalignment/0.5mm/*.csv'),\n",
    "    'horizontal_1': glob.glob(database_path + '/horizontal-misalignment/1.0mm/*.csv'),\n",
    "    'horizontal_15': glob.glob(database_path + '/horizontal-misalignment/1.5mm/*.csv'),\n",
    "    'horizontal_2': glob.glob(database_path + '/horizontal-misalignment/2.0mm/*.csv'),\n",
    "    'vertical_05': glob.glob(database_path + '/vertical-misalignment/0.51mm/*.csv'),\n",
    "    'vertical_063': glob.glob(database_path + '/vertical-misalignment/0.63mm/*.csv'),\n",
    "    'vertical_127': glob.glob(database_path + '/vertical-misalignment/1.27mm/*.csv'),\n",
    "    'vertical_140': glob.glob(database_path + '/vertical-misalignment/1.40mm/*.csv'),\n",
    "    'vertical_178': glob.glob(database_path + '/vertical-misalignment/1.78mm/*.csv'),\n",
    "    'vertical_19': glob.glob(database_path + '/vertical-misalignment/1.90mm/*.csv'),\n",
    "    'overhang_ball_0g': glob.glob(database_path + '/overhang/ball_fault/0g/*.csv'),\n",
    "    'overhang_ball_6g': glob.glob(database_path + '/overhang/ball_fault/6g/*.csv'),\n",
    "    'overhang_ball_20g': glob.glob(database_path + '/overhang/ball_fault/20g/*.csv'),\n",
    "    'overhang_ball_35g': glob.glob(database_path + '/overhang/ball_fault/35g/*.csv'),\n",
    "    'overhang_cage_0g': glob.glob(database_path + '/overhang/cage_fault/0g/*.csv'),\n",
    "    'overhang_cage_6g': glob.glob(database_path + '/overhang/cage_fault/6g/*.csv'),\n",
    "    'overhang_cage_20g': glob.glob(database_path + '/overhang/cage_fault/20g/*.csv'),\n",
    "    'overhang_cage_35g': glob.glob(database_path + '/overhang/cage_fault/35g/*.csv'),\n",
    "    'overhang_outer_0g': glob.glob(database_path + '/overhang/outer_race/0g/*.csv'),\n",
    "    'overhang_outer_6g': glob.glob(database_path + '/overhang/outer_race/6g/*.csv'),\n",
    "    'overhang_outer_20g': glob.glob(database_path + '/overhang/outer_race/20g/*.csv'),\n",
    "    'overhang_outer_35g': glob.glob(database_path + '/overhang/outer_race/35g/*.csv'),\n",
    "    'underhang_ball_0g': glob.glob(database_path + '/underhang/ball_fault/0g/*.csv'),\n",
    "    'underhang_ball_6g': glob.glob(database_path + '/underhang/ball_fault/6g/*.csv'),\n",
    "    'underhang_ball_20g': glob.glob(database_path + '/underhang/ball_fault/20g/*.csv'),\n",
    "    'underhang_ball_35g': glob.glob(database_path + '/underhang/ball_fault/35g/*.csv'),\n",
    "    'underhang_cage_0g': glob.glob(database_path + '/underhang/cage_fault/0g/*.csv'),\n",
    "    'underhang_cage_6g': glob.glob(database_path + '/underhang/cage_fault/6g/*.csv'),\n",
    "    'underhang_cage_20g': glob.glob(database_path + '/underhang/cage_fault/20g/*.csv'),\n",
    "    'underhang_cage_35g': glob.glob(database_path + '/underhang/cage_fault/35g/*.csv'),\n",
    "    'underhang_outer_0g': glob.glob(database_path + '/underhang/outer_race/0g/*.csv'),\n",
    "    'underhang_outer_6g': glob.glob(database_path + '/underhang/outer_race/6g/*.csv'),\n",
    "    'underhang_outer_20g': glob.glob(database_path + '/underhang/outer_race/20g/*.csv'),\n",
    "    'underhang_outer_35g': glob.glob(database_path + '/underhang/outer_race/35g/*.csv')\n",
    "}"
   ]
  },
  {
   "cell_type": "code",
   "execution_count": 4,
   "metadata": {},
   "outputs": [],
   "source": [
    "# Dictionary to store the data frames with their corresponding descriptive names\n",
    "data_frames = {}\n",
    "\n",
    "# Iterate through the directory_info dictionary and read the data, then downsample it\n",
    "for key, dir_csv_files in directory_info.items():\n",
    "    data_frame = dataReader(dir_csv_files)\n",
    "    data_frame_downsampled = downSampler(data_frame, 0, 5000)\n",
    "    data_frames[key] = data_frame_downsampled\n",
    "\n",
    "# Combine all the data into a single DataFrame with labels\n",
    "combined_data = pd.DataFrame()\n",
    "for label, df in data_frames.items():\n",
    "    df['label'] = label\n",
    "    combined_data = pd.concat([combined_data, df], ignore_index=True)\n",
    "\n",
    "# Shuffle the combined data\n",
    "combined_data = combined_data.sample(frac=1).reset_index(drop=True)\n",
    "\n",
    "# Separate features and labels\n",
    "X = combined_data.drop('label', axis=1).values\n",
    "y = combined_data['label'].values\n",
    "\n",
    "# Encode the labels to integers\n",
    "label_encoder = LabelEncoder()\n",
    "y_encoded = label_encoder.fit_transform(y)\n",
    "\n",
    "# Split the data into training and testing sets\n",
    "X_train, X_test, y_train, y_test = train_test_split(X, y_encoded, test_size=0.2, random_state=42)"
   ]
  },
  {
   "cell_type": "code",
   "execution_count": 5,
   "metadata": {},
   "outputs": [
    {
     "name": "stderr",
     "output_type": "stream",
     "text": [
      "/home/ecappiell/dev/.venv/lib/python3.10/site-packages/keras/src/layers/convolutional/base_conv.py:107: UserWarning: Do not pass an `input_shape`/`input_dim` argument to a layer. When using Sequential models, prefer using an `Input(shape)` object as the first layer in the model instead.\n",
      "  super().__init__(activity_regularizer=activity_regularizer, **kwargs)\n"
     ]
    },
    {
     "name": "stdout",
     "output_type": "stream",
     "text": [
      "Epoch 1/300\n"
     ]
    },
    {
     "name": "stderr",
     "output_type": "stream",
     "text": [
      "2024-06-04 09:44:26.686357: I external/local_xla/xla/stream_executor/cuda/cuda_executor.cc:998] successful NUMA node read from SysFS had negative value (-1), but there must be at least one NUMA node, so returning NUMA node zero. See more at https://github.com/torvalds/linux/blob/v6.0/Documentation/ABI/testing/sysfs-bus-pci#L344-L355\n",
      "2024-06-04 09:44:26.704577: I external/local_xla/xla/stream_executor/cuda/cuda_executor.cc:998] successful NUMA node read from SysFS had negative value (-1), but there must be at least one NUMA node, so returning NUMA node zero. See more at https://github.com/torvalds/linux/blob/v6.0/Documentation/ABI/testing/sysfs-bus-pci#L344-L355\n",
      "2024-06-04 09:44:26.704738: I external/local_xla/xla/stream_executor/cuda/cuda_executor.cc:998] successful NUMA node read from SysFS had negative value (-1), but there must be at least one NUMA node, so returning NUMA node zero. See more at https://github.com/torvalds/linux/blob/v6.0/Documentation/ABI/testing/sysfs-bus-pci#L344-L355\n",
      "2024-06-04 09:44:26.705600: I external/local_xla/xla/stream_executor/cuda/cuda_executor.cc:998] successful NUMA node read from SysFS had negative value (-1), but there must be at least one NUMA node, so returning NUMA node zero. See more at https://github.com/torvalds/linux/blob/v6.0/Documentation/ABI/testing/sysfs-bus-pci#L344-L355\n",
      "2024-06-04 09:44:26.705721: I external/local_xla/xla/stream_executor/cuda/cuda_executor.cc:998] successful NUMA node read from SysFS had negative value (-1), but there must be at least one NUMA node, so returning NUMA node zero. See more at https://github.com/torvalds/linux/blob/v6.0/Documentation/ABI/testing/sysfs-bus-pci#L344-L355\n",
      "2024-06-04 09:44:26.705827: I external/local_xla/xla/stream_executor/cuda/cuda_executor.cc:998] successful NUMA node read from SysFS had negative value (-1), but there must be at least one NUMA node, so returning NUMA node zero. See more at https://github.com/torvalds/linux/blob/v6.0/Documentation/ABI/testing/sysfs-bus-pci#L344-L355\n",
      "2024-06-04 09:44:26.937302: I external/local_xla/xla/stream_executor/cuda/cuda_executor.cc:998] successful NUMA node read from SysFS had negative value (-1), but there must be at least one NUMA node, so returning NUMA node zero. See more at https://github.com/torvalds/linux/blob/v6.0/Documentation/ABI/testing/sysfs-bus-pci#L344-L355\n",
      "2024-06-04 09:44:26.937439: I external/local_xla/xla/stream_executor/cuda/cuda_executor.cc:998] successful NUMA node read from SysFS had negative value (-1), but there must be at least one NUMA node, so returning NUMA node zero. See more at https://github.com/torvalds/linux/blob/v6.0/Documentation/ABI/testing/sysfs-bus-pci#L344-L355\n",
      "2024-06-04 09:44:26.937555: I external/local_xla/xla/stream_executor/cuda/cuda_executor.cc:998] successful NUMA node read from SysFS had negative value (-1), but there must be at least one NUMA node, so returning NUMA node zero. See more at https://github.com/torvalds/linux/blob/v6.0/Documentation/ABI/testing/sysfs-bus-pci#L344-L355\n",
      "2024-06-04 09:44:26.937637: I tensorflow/core/common_runtime/gpu/gpu_device.cc:1928] Created device /job:localhost/replica:0/task:0/device:GPU:0 with 10230 MB memory:  -> device: 0, name: NVIDIA GeForce RTX 3080 Ti, pci bus id: 0000:09:00.0, compute capability: 8.6\n",
      "WARNING: All log messages before absl::InitializeLog() is called are written to STDERR\n",
      "I0000 00:00:1717494267.926841  753069 service.cc:145] XLA service 0x7f91dc0014c0 initialized for platform CUDA (this does not guarantee that XLA will be used). Devices:\n",
      "I0000 00:00:1717494267.926860  753069 service.cc:153]   StreamExecutor device (0): NVIDIA GeForce RTX 3080 Ti, Compute Capability 8.6\n",
      "2024-06-04 09:44:27.951916: I tensorflow/compiler/mlir/tensorflow/utils/dump_mlir_util.cc:268] disabling MLIR crash reproducer, set env var `MLIR_CRASH_REPRODUCER_DIRECTORY` to enable.\n",
      "2024-06-04 09:44:28.074996: I external/local_xla/xla/stream_executor/cuda/cuda_dnn.cc:465] Loaded cuDNN version 8907\n"
     ]
    },
    {
     "name": "stdout",
     "output_type": "stream",
     "text": [
      "\u001b[1m 190/1906\u001b[0m \u001b[32m━\u001b[0m\u001b[37m━━━━━━━━━━━━━━━━━━━\u001b[0m \u001b[1m1s\u001b[0m 797us/step - accuracy: 0.0321 - loss: 3.6638"
     ]
    },
    {
     "name": "stderr",
     "output_type": "stream",
     "text": [
      "I0000 00:00:1717494271.010086  753069 device_compiler.h:188] Compiled cluster using XLA!  This line is logged at most once for the lifetime of the process.\n"
     ]
    },
    {
     "name": "stdout",
     "output_type": "stream",
     "text": [
      "\u001b[1m1881/1906\u001b[0m \u001b[32m━━━━━━━━━━━━━━━━━━━\u001b[0m\u001b[37m━\u001b[0m \u001b[1m0s\u001b[0m 778us/step - accuracy: 0.0738 - loss: 3.1617"
     ]
    },
    {
     "name": "stderr",
     "output_type": "stream",
     "text": [
      "WARNING: All log messages before absl::InitializeLog() is called are written to STDERR\n",
      "I0000 00:00:1717494273.098962  753341 asm_compiler.cc:369] ptxas warning : Registers are spilled to local memory in function 'triton_gemm_dot_65', 192 bytes spill stores, 192 bytes spill loads\n",
      "\n"
     ]
    },
    {
     "name": "stdout",
     "output_type": "stream",
     "text": [
      "\u001b[1m1906/1906\u001b[0m \u001b[32m━━━━━━━━━━━━━━━━━━━━\u001b[0m\u001b[37m\u001b[0m \u001b[1m8s\u001b[0m 2ms/step - accuracy: 0.0741 - loss: 3.1589 - val_accuracy: 0.1208 - val_loss: 2.7644\n",
      "Epoch 2/300\n",
      "\u001b[1m1906/1906\u001b[0m \u001b[32m━━━━━━━━━━━━━━━━━━━━\u001b[0m\u001b[37m\u001b[0m \u001b[1m2s\u001b[0m 912us/step - accuracy: 0.1268 - loss: 2.7478 - val_accuracy: 0.1908 - val_loss: 2.4345\n",
      "Epoch 3/300\n",
      "\u001b[1m1906/1906\u001b[0m \u001b[32m━━━━━━━━━━━━━━━━━━━━\u001b[0m\u001b[37m\u001b[0m \u001b[1m2s\u001b[0m 904us/step - accuracy: 0.1818 - loss: 2.4966 - val_accuracy: 0.2165 - val_loss: 2.3360\n",
      "Epoch 4/300\n",
      "\u001b[1m1906/1906\u001b[0m \u001b[32m━━━━━━━━━━━━━━━━━━━━\u001b[0m\u001b[37m\u001b[0m \u001b[1m2s\u001b[0m 911us/step - accuracy: 0.2063 - loss: 2.3763 - val_accuracy: 0.2335 - val_loss: 2.2422\n",
      "Epoch 5/300\n",
      "\u001b[1m1906/1906\u001b[0m \u001b[32m━━━━━━━━━━━━━━━━━━━━\u001b[0m\u001b[37m\u001b[0m \u001b[1m2s\u001b[0m 906us/step - accuracy: 0.2240 - loss: 2.3263 - val_accuracy: 0.2430 - val_loss: 2.2194\n",
      "Epoch 6/300\n",
      "\u001b[1m1906/1906\u001b[0m \u001b[32m━━━━━━━━━━━━━━━━━━━━\u001b[0m\u001b[37m\u001b[0m \u001b[1m2s\u001b[0m 907us/step - accuracy: 0.2318 - loss: 2.2839 - val_accuracy: 0.2503 - val_loss: 2.1977\n",
      "Epoch 7/300\n",
      "\u001b[1m1906/1906\u001b[0m \u001b[32m━━━━━━━━━━━━━━━━━━━━\u001b[0m\u001b[37m\u001b[0m \u001b[1m2s\u001b[0m 909us/step - accuracy: 0.2348 - loss: 2.2706 - val_accuracy: 0.2510 - val_loss: 2.1826\n",
      "Epoch 8/300\n",
      "\u001b[1m1906/1906\u001b[0m \u001b[32m━━━━━━━━━━━━━━━━━━━━\u001b[0m\u001b[37m\u001b[0m \u001b[1m2s\u001b[0m 901us/step - accuracy: 0.2430 - loss: 2.2549 - val_accuracy: 0.2511 - val_loss: 2.1770\n",
      "Epoch 9/300\n",
      "\u001b[1m1906/1906\u001b[0m \u001b[32m━━━━━━━━━━━━━━━━━━━━\u001b[0m\u001b[37m\u001b[0m \u001b[1m2s\u001b[0m 907us/step - accuracy: 0.2477 - loss: 2.2243 - val_accuracy: 0.2618 - val_loss: 2.1597\n",
      "Epoch 10/300\n",
      "\u001b[1m1906/1906\u001b[0m \u001b[32m━━━━━━━━━━━━━━━━━━━━\u001b[0m\u001b[37m\u001b[0m \u001b[1m2s\u001b[0m 911us/step - accuracy: 0.2538 - loss: 2.2096 - val_accuracy: 0.2687 - val_loss: 2.1258\n",
      "Epoch 11/300\n",
      "\u001b[1m1906/1906\u001b[0m \u001b[32m━━━━━━━━━━━━━━━━━━━━\u001b[0m\u001b[37m\u001b[0m \u001b[1m2s\u001b[0m 916us/step - accuracy: 0.2512 - loss: 2.2132 - val_accuracy: 0.2758 - val_loss: 2.1153\n",
      "Epoch 12/300\n",
      "\u001b[1m1906/1906\u001b[0m \u001b[32m━━━━━━━━━━━━━━━━━━━━\u001b[0m\u001b[37m\u001b[0m \u001b[1m2s\u001b[0m 900us/step - accuracy: 0.2526 - loss: 2.1950 - val_accuracy: 0.2692 - val_loss: 2.1381\n",
      "Epoch 13/300\n",
      "\u001b[1m1906/1906\u001b[0m \u001b[32m━━━━━━━━━━━━━━━━━━━━\u001b[0m\u001b[37m\u001b[0m \u001b[1m2s\u001b[0m 914us/step - accuracy: 0.2582 - loss: 2.1893 - val_accuracy: 0.2678 - val_loss: 2.1309\n",
      "Epoch 14/300\n",
      "\u001b[1m1906/1906\u001b[0m \u001b[32m━━━━━━━━━━━━━━━━━━━━\u001b[0m\u001b[37m\u001b[0m \u001b[1m2s\u001b[0m 910us/step - accuracy: 0.2597 - loss: 2.1749 - val_accuracy: 0.2666 - val_loss: 2.1190\n",
      "Epoch 15/300\n",
      "\u001b[1m1906/1906\u001b[0m \u001b[32m━━━━━━━━━━━━━━━━━━━━\u001b[0m\u001b[37m\u001b[0m \u001b[1m2s\u001b[0m 922us/step - accuracy: 0.2603 - loss: 2.1873 - val_accuracy: 0.2810 - val_loss: 2.0949\n",
      "Epoch 16/300\n",
      "\u001b[1m1906/1906\u001b[0m \u001b[32m━━━━━━━━━━━━━━━━━━━━\u001b[0m\u001b[37m\u001b[0m \u001b[1m2s\u001b[0m 899us/step - accuracy: 0.2643 - loss: 2.1731 - val_accuracy: 0.2779 - val_loss: 2.0987\n",
      "Epoch 17/300\n",
      "\u001b[1m1906/1906\u001b[0m \u001b[32m━━━━━━━━━━━━━━━━━━━━\u001b[0m\u001b[37m\u001b[0m \u001b[1m2s\u001b[0m 923us/step - accuracy: 0.2649 - loss: 2.1701 - val_accuracy: 0.2772 - val_loss: 2.1002\n",
      "Epoch 18/300\n",
      "\u001b[1m1906/1906\u001b[0m \u001b[32m━━━━━━━━━━━━━━━━━━━━\u001b[0m\u001b[37m\u001b[0m \u001b[1m2s\u001b[0m 916us/step - accuracy: 0.2673 - loss: 2.1625 - val_accuracy: 0.2829 - val_loss: 2.0926\n",
      "Epoch 19/300\n",
      "\u001b[1m1906/1906\u001b[0m \u001b[32m━━━━━━━━━━━━━━━━━━━━\u001b[0m\u001b[37m\u001b[0m \u001b[1m2s\u001b[0m 910us/step - accuracy: 0.2688 - loss: 2.1532 - val_accuracy: 0.2794 - val_loss: 2.0930\n",
      "Epoch 20/300\n",
      "\u001b[1m1906/1906\u001b[0m \u001b[32m━━━━━━━━━━━━━━━━━━━━\u001b[0m\u001b[37m\u001b[0m \u001b[1m2s\u001b[0m 908us/step - accuracy: 0.2736 - loss: 2.1508 - val_accuracy: 0.2800 - val_loss: 2.0862\n",
      "Epoch 21/300\n",
      "\u001b[1m1906/1906\u001b[0m \u001b[32m━━━━━━━━━━━━━━━━━━━━\u001b[0m\u001b[37m\u001b[0m \u001b[1m2s\u001b[0m 919us/step - accuracy: 0.2701 - loss: 2.1448 - val_accuracy: 0.2844 - val_loss: 2.0847\n",
      "Epoch 22/300\n",
      "\u001b[1m1906/1906\u001b[0m \u001b[32m━━━━━━━━━━━━━━━━━━━━\u001b[0m\u001b[37m\u001b[0m \u001b[1m2s\u001b[0m 910us/step - accuracy: 0.2683 - loss: 2.1503 - val_accuracy: 0.2865 - val_loss: 2.0697\n",
      "Epoch 23/300\n",
      "\u001b[1m1906/1906\u001b[0m \u001b[32m━━━━━━━━━━━━━━━━━━━━\u001b[0m\u001b[37m\u001b[0m \u001b[1m2s\u001b[0m 917us/step - accuracy: 0.2746 - loss: 2.1398 - val_accuracy: 0.2833 - val_loss: 2.0748\n",
      "Epoch 24/300\n",
      "\u001b[1m1906/1906\u001b[0m \u001b[32m━━━━━━━━━━━━━━━━━━━━\u001b[0m\u001b[37m\u001b[0m \u001b[1m2s\u001b[0m 921us/step - accuracy: 0.2694 - loss: 2.1473 - val_accuracy: 0.2737 - val_loss: 2.1211\n",
      "Epoch 25/300\n",
      "\u001b[1m1906/1906\u001b[0m \u001b[32m━━━━━━━━━━━━━━━━━━━━\u001b[0m\u001b[37m\u001b[0m \u001b[1m2s\u001b[0m 931us/step - accuracy: 0.2745 - loss: 2.1346 - val_accuracy: 0.2886 - val_loss: 2.0720\n",
      "Epoch 26/300\n",
      "\u001b[1m1906/1906\u001b[0m \u001b[32m━━━━━━━━━━━━━━━━━━━━\u001b[0m\u001b[37m\u001b[0m \u001b[1m2s\u001b[0m 926us/step - accuracy: 0.2837 - loss: 2.1177 - val_accuracy: 0.2897 - val_loss: 2.0692\n",
      "Epoch 27/300\n",
      "\u001b[1m1906/1906\u001b[0m \u001b[32m━━━━━━━━━━━━━━━━━━━━\u001b[0m\u001b[37m\u001b[0m \u001b[1m2s\u001b[0m 915us/step - accuracy: 0.2797 - loss: 2.1244 - val_accuracy: 0.2867 - val_loss: 2.0718\n",
      "Epoch 28/300\n",
      "\u001b[1m1906/1906\u001b[0m \u001b[32m━━━━━━━━━━━━━━━━━━━━\u001b[0m\u001b[37m\u001b[0m \u001b[1m2s\u001b[0m 910us/step - accuracy: 0.2751 - loss: 2.1328 - val_accuracy: 0.2859 - val_loss: 2.0727\n",
      "Epoch 29/300\n",
      "\u001b[1m1906/1906\u001b[0m \u001b[32m━━━━━━━━━━━━━━━━━━━━\u001b[0m\u001b[37m\u001b[0m \u001b[1m2s\u001b[0m 900us/step - accuracy: 0.2806 - loss: 2.1240 - val_accuracy: 0.2853 - val_loss: 2.0827\n",
      "Epoch 30/300\n",
      "\u001b[1m1906/1906\u001b[0m \u001b[32m━━━━━━━━━━━━━━━━━━━━\u001b[0m\u001b[37m\u001b[0m \u001b[1m2s\u001b[0m 916us/step - accuracy: 0.2795 - loss: 2.1247 - val_accuracy: 0.2930 - val_loss: 2.0710\n",
      "Epoch 31/300\n",
      "\u001b[1m1906/1906\u001b[0m \u001b[32m━━━━━━━━━━━━━━━━━━━━\u001b[0m\u001b[37m\u001b[0m \u001b[1m2s\u001b[0m 915us/step - accuracy: 0.2809 - loss: 2.1225 - val_accuracy: 0.2935 - val_loss: 2.0531\n",
      "Epoch 32/300\n",
      "\u001b[1m1906/1906\u001b[0m \u001b[32m━━━━━━━━━━━━━━━━━━━━\u001b[0m\u001b[37m\u001b[0m \u001b[1m2s\u001b[0m 925us/step - accuracy: 0.2822 - loss: 2.1130 - val_accuracy: 0.2911 - val_loss: 2.0630\n",
      "Epoch 33/300\n",
      "\u001b[1m1906/1906\u001b[0m \u001b[32m━━━━━━━━━━━━━━━━━━━━\u001b[0m\u001b[37m\u001b[0m \u001b[1m2s\u001b[0m 902us/step - accuracy: 0.2867 - loss: 2.1113 - val_accuracy: 0.2939 - val_loss: 2.0547\n",
      "Epoch 34/300\n",
      "\u001b[1m1906/1906\u001b[0m \u001b[32m━━━━━━━━━━━━━━━━━━━━\u001b[0m\u001b[37m\u001b[0m \u001b[1m2s\u001b[0m 907us/step - accuracy: 0.2833 - loss: 2.1165 - val_accuracy: 0.2890 - val_loss: 2.0658\n",
      "Epoch 35/300\n",
      "\u001b[1m1906/1906\u001b[0m \u001b[32m━━━━━━━━━━━━━━━━━━━━\u001b[0m\u001b[37m\u001b[0m \u001b[1m2s\u001b[0m 910us/step - accuracy: 0.2825 - loss: 2.1139 - val_accuracy: 0.2974 - val_loss: 2.0498\n",
      "Epoch 36/300\n",
      "\u001b[1m1906/1906\u001b[0m \u001b[32m━━━━━━━━━━━━━━━━━━━━\u001b[0m\u001b[37m\u001b[0m \u001b[1m2s\u001b[0m 909us/step - accuracy: 0.2844 - loss: 2.1055 - val_accuracy: 0.2936 - val_loss: 2.0707\n",
      "Epoch 37/300\n",
      "\u001b[1m1906/1906\u001b[0m \u001b[32m━━━━━━━━━━━━━━━━━━━━\u001b[0m\u001b[37m\u001b[0m \u001b[1m2s\u001b[0m 901us/step - accuracy: 0.2845 - loss: 2.1161 - val_accuracy: 0.2930 - val_loss: 2.0602\n",
      "Epoch 38/300\n",
      "\u001b[1m1906/1906\u001b[0m \u001b[32m━━━━━━━━━━━━━━━━━━━━\u001b[0m\u001b[37m\u001b[0m \u001b[1m2s\u001b[0m 934us/step - accuracy: 0.2836 - loss: 2.1063 - val_accuracy: 0.2921 - val_loss: 2.0595\n",
      "Epoch 39/300\n",
      "\u001b[1m1906/1906\u001b[0m \u001b[32m━━━━━━━━━━━━━━━━━━━━\u001b[0m\u001b[37m\u001b[0m \u001b[1m2s\u001b[0m 906us/step - accuracy: 0.2857 - loss: 2.1015 - val_accuracy: 0.2876 - val_loss: 2.0743\n",
      "Epoch 40/300\n",
      "\u001b[1m1906/1906\u001b[0m \u001b[32m━━━━━━━━━━━━━━━━━━━━\u001b[0m\u001b[37m\u001b[0m \u001b[1m2s\u001b[0m 927us/step - accuracy: 0.2851 - loss: 2.1017 - val_accuracy: 0.2966 - val_loss: 2.0554\n",
      "Epoch 41/300\n",
      "\u001b[1m1906/1906\u001b[0m \u001b[32m━━━━━━━━━━━━━━━━━━━━\u001b[0m\u001b[37m\u001b[0m \u001b[1m2s\u001b[0m 928us/step - accuracy: 0.2850 - loss: 2.1069 - val_accuracy: 0.3022 - val_loss: 2.0428\n",
      "Epoch 42/300\n",
      "\u001b[1m1906/1906\u001b[0m \u001b[32m━━━━━━━━━━━━━━━━━━━━\u001b[0m\u001b[37m\u001b[0m \u001b[1m2s\u001b[0m 923us/step - accuracy: 0.2905 - loss: 2.0895 - val_accuracy: 0.2989 - val_loss: 2.0452\n",
      "Epoch 43/300\n",
      "\u001b[1m1906/1906\u001b[0m \u001b[32m━━━━━━━━━━━━━━━━━━━━\u001b[0m\u001b[37m\u001b[0m \u001b[1m2s\u001b[0m 911us/step - accuracy: 0.2873 - loss: 2.0987 - val_accuracy: 0.2947 - val_loss: 2.0634\n",
      "Epoch 44/300\n",
      "\u001b[1m1906/1906\u001b[0m \u001b[32m━━━━━━━━━━━━━━━━━━━━\u001b[0m\u001b[37m\u001b[0m \u001b[1m2s\u001b[0m 906us/step - accuracy: 0.2901 - loss: 2.1003 - val_accuracy: 0.2819 - val_loss: 2.0929\n",
      "Epoch 45/300\n",
      "\u001b[1m1906/1906\u001b[0m \u001b[32m━━━━━━━━━━━━━━━━━━━━\u001b[0m\u001b[37m\u001b[0m \u001b[1m2s\u001b[0m 909us/step - accuracy: 0.2917 - loss: 2.0952 - val_accuracy: 0.2905 - val_loss: 2.0702\n",
      "Epoch 46/300\n",
      "\u001b[1m1906/1906\u001b[0m \u001b[32m━━━━━━━━━━━━━━━━━━━━\u001b[0m\u001b[37m\u001b[0m \u001b[1m2s\u001b[0m 927us/step - accuracy: 0.2902 - loss: 2.0888 - val_accuracy: 0.2987 - val_loss: 2.0459\n",
      "Epoch 47/300\n",
      "\u001b[1m1906/1906\u001b[0m \u001b[32m━━━━━━━━━━━━━━━━━━━━\u001b[0m\u001b[37m\u001b[0m \u001b[1m2s\u001b[0m 922us/step - accuracy: 0.2911 - loss: 2.0883 - val_accuracy: 0.2912 - val_loss: 2.0661\n",
      "Epoch 48/300\n",
      "\u001b[1m1906/1906\u001b[0m \u001b[32m━━━━━━━━━━━━━━━━━━━━\u001b[0m\u001b[37m\u001b[0m \u001b[1m2s\u001b[0m 929us/step - accuracy: 0.2914 - loss: 2.0943 - val_accuracy: 0.3013 - val_loss: 2.0457\n",
      "Epoch 49/300\n",
      "\u001b[1m1906/1906\u001b[0m \u001b[32m━━━━━━━━━━━━━━━━━━━━\u001b[0m\u001b[37m\u001b[0m \u001b[1m2s\u001b[0m 932us/step - accuracy: 0.2878 - loss: 2.0968 - val_accuracy: 0.2990 - val_loss: 2.0538\n",
      "Epoch 50/300\n",
      "\u001b[1m1906/1906\u001b[0m \u001b[32m━━━━━━━━━━━━━━━━━━━━\u001b[0m\u001b[37m\u001b[0m \u001b[1m2s\u001b[0m 927us/step - accuracy: 0.2951 - loss: 2.0788 - val_accuracy: 0.2964 - val_loss: 2.0483\n",
      "Epoch 51/300\n",
      "\u001b[1m1906/1906\u001b[0m \u001b[32m━━━━━━━━━━━━━━━━━━━━\u001b[0m\u001b[37m\u001b[0m \u001b[1m2s\u001b[0m 917us/step - accuracy: 0.2889 - loss: 2.0911 - val_accuracy: 0.3014 - val_loss: 2.0366\n",
      "Epoch 52/300\n",
      "\u001b[1m1906/1906\u001b[0m \u001b[32m━━━━━━━━━━━━━━━━━━━━\u001b[0m\u001b[37m\u001b[0m \u001b[1m2s\u001b[0m 906us/step - accuracy: 0.2955 - loss: 2.0859 - val_accuracy: 0.2909 - val_loss: 2.0796\n",
      "Epoch 53/300\n",
      "\u001b[1m1906/1906\u001b[0m \u001b[32m━━━━━━━━━━━━━━━━━━━━\u001b[0m\u001b[37m\u001b[0m \u001b[1m2s\u001b[0m 909us/step - accuracy: 0.2924 - loss: 2.0873 - val_accuracy: 0.3013 - val_loss: 2.0470\n",
      "Epoch 54/300\n",
      "\u001b[1m1906/1906\u001b[0m \u001b[32m━━━━━━━━━━━━━━━━━━━━\u001b[0m\u001b[37m\u001b[0m \u001b[1m2s\u001b[0m 910us/step - accuracy: 0.2903 - loss: 2.0902 - val_accuracy: 0.3018 - val_loss: 2.0532\n",
      "Epoch 55/300\n",
      "\u001b[1m1906/1906\u001b[0m \u001b[32m━━━━━━━━━━━━━━━━━━━━\u001b[0m\u001b[37m\u001b[0m \u001b[1m2s\u001b[0m 912us/step - accuracy: 0.2962 - loss: 2.0842 - val_accuracy: 0.2955 - val_loss: 2.0579\n",
      "Epoch 56/300\n",
      "\u001b[1m1906/1906\u001b[0m \u001b[32m━━━━━━━━━━━━━━━━━━━━\u001b[0m\u001b[37m\u001b[0m \u001b[1m2s\u001b[0m 917us/step - accuracy: 0.2939 - loss: 2.0853 - val_accuracy: 0.2985 - val_loss: 2.0529\n",
      "Epoch 57/300\n",
      "\u001b[1m1906/1906\u001b[0m \u001b[32m━━━━━━━━━━━━━━━━━━━━\u001b[0m\u001b[37m\u001b[0m \u001b[1m2s\u001b[0m 907us/step - accuracy: 0.2912 - loss: 2.0853 - val_accuracy: 0.3046 - val_loss: 2.0375\n",
      "Epoch 58/300\n",
      "\u001b[1m1906/1906\u001b[0m \u001b[32m━━━━━━━━━━━━━━━━━━━━\u001b[0m\u001b[37m\u001b[0m \u001b[1m2s\u001b[0m 901us/step - accuracy: 0.2944 - loss: 2.0760 - val_accuracy: 0.2993 - val_loss: 2.0453\n",
      "Epoch 59/300\n",
      "\u001b[1m1906/1906\u001b[0m \u001b[32m━━━━━━━━━━━━━━━━━━━━\u001b[0m\u001b[37m\u001b[0m \u001b[1m2s\u001b[0m 912us/step - accuracy: 0.3008 - loss: 2.0760 - val_accuracy: 0.3001 - val_loss: 2.0393\n",
      "Epoch 60/300\n",
      "\u001b[1m1906/1906\u001b[0m \u001b[32m━━━━━━━━━━━━━━━━━━━━\u001b[0m\u001b[37m\u001b[0m \u001b[1m2s\u001b[0m 917us/step - accuracy: 0.2956 - loss: 2.0805 - val_accuracy: 0.3033 - val_loss: 2.0462\n",
      "Epoch 61/300\n",
      "\u001b[1m1906/1906\u001b[0m \u001b[32m━━━━━━━━━━━━━━━━━━━━\u001b[0m\u001b[37m\u001b[0m \u001b[1m2s\u001b[0m 896us/step - accuracy: 0.2944 - loss: 2.0845 - val_accuracy: 0.3019 - val_loss: 2.0430\n"
     ]
    }
   ],
   "source": [
    "# Define the 1-D CNN model\n",
    "def create_cnn_model(input_shape):\n",
    "    model = Sequential([\n",
    "        Conv1D(128, kernel_size=4, activation='relu', input_shape=input_shape),\n",
    "        Conv1D(256, kernel_size=4, activation='relu'),\n",
    "        Flatten(),\n",
    "        Dense(1024, activation='relu'),\n",
    "        Dropout(0.5),\n",
    "        Dense(512, activation='relu'),\n",
    "        Dropout(0.5),\n",
    "        Dense(256, activation='relu'),\n",
    "        Dropout(0.5),\n",
    "        Dense(128, activation='relu'),\n",
    "        Dense(len(np.unique(y_encoded)), activation='softmax')\n",
    "    ])\n",
    "    model.compile(optimizer='adam', loss='sparse_categorical_crossentropy', metrics=['accuracy'])\n",
    "    return model\n",
    "\n",
    "# Reshape data for CNN input\n",
    "X_train_cnn = X_train[..., np.newaxis]\n",
    "X_test_cnn = X_test[..., np.newaxis]\n",
    "\n",
    "cnn_model = create_cnn_model(X_train_cnn.shape[1:])\n",
    "early_stopping = EarlyStopping(monitor='val_loss', patience=10, restore_best_weights=True)\n",
    "history = cnn_model.fit(X_train_cnn, y_train, epochs=300, validation_split=0.2, callbacks=[early_stopping])"
   ]
  },
  {
   "cell_type": "code",
   "execution_count": 6,
   "metadata": {},
   "outputs": [
    {
     "data": {
      "image/png": "[encoded data removed]",
      "text/plain": [
       "<Figure size 1200x400 with 2 Axes>"
      ]
     },
     "metadata": {},
     "output_type": "display_data"
    }
   ],
   "source": [
    "# Plot accuracy and loss\n",
    "plt.figure(figsize=(12, 4))\n",
    "plt.subplot(1, 2, 1)\n",
    "plt.plot(history.history['accuracy'], label='train accuracy')\n",
    "plt.plot(history.history['val_accuracy'], label='val accuracy')\n",
    "plt.legend()\n",
    "plt.title('Accuracy')\n",
    "\n",
    "plt.subplot(1, 2, 2)\n",
    "plt.plot(history.history['loss'], label='train loss')\n",
    "plt.plot(history.history['val_loss'], label='val loss')\n",
    "plt.legend()\n",
    "plt.title('Loss')\n",
    "\n",
    "plt.show()"
   ]
  },
  {
   "cell_type": "code",
   "execution_count": 7,
   "metadata": {},
   "outputs": [
    {
     "name": "stdout",
     "output_type": "stream",
     "text": [
      "\u001b[1m531/596\u001b[0m \u001b[32m━━━━━━━━━━━━━━━━━\u001b[0m\u001b[37m━━━\u001b[0m \u001b[1m0s\u001b[0m 474us/step"
     ]
    },
    {
     "name": "stderr",
     "output_type": "stream",
     "text": [
      "I0000 00:00:1717494382.021785  759217 asm_compiler.cc:369] ptxas warning : Registers are spilled to local memory in function 'triton_gemm_dot_47', 260 bytes spill stores, 260 bytes spill loads\n",
      "\n"
     ]
    },
    {
     "name": "stdout",
     "output_type": "stream",
     "text": [
      "\u001b[1m596/596\u001b[0m \u001b[32m━━━━━━━━━━━━━━━━━━━━\u001b[0m\u001b[37m\u001b[0m \u001b[1m2s\u001b[0m 3ms/step\n"
     ]
    }
   ],
   "source": [
    "# Evaluate the CNN model\n",
    "cnn_pred = cnn_model.predict(X_test_cnn)\n",
    "cnn_pred_classes = np.argmax(cnn_pred, axis=1)"
   ]
  },
  {
   "cell_type": "code",
   "execution_count": 8,
   "metadata": {},
   "outputs": [
    {
     "name": "stdout",
     "output_type": "stream",
     "text": [
      "CNN Model Performance:\n",
      "Accuracy: 0.30362014690451206\n",
      "Precision: 0.32511822174090643\n",
      "Recall: 0.30362014690451206\n",
      "F1 Score: 0.2919906048319113\n",
      "Confusion Matrix:\n",
      " [[ 53  38  44 ...   0   1   5]\n",
      " [  8  67   1 ...   0   0   4]\n",
      " [ 32  22  61 ...   0   0   7]\n",
      " ...\n",
      " [  0   1   0 ...   5  29 167]\n",
      " [  0   1   0 ...   7  22 243]\n",
      " [  0   0   2 ...   5  15 300]]\n"
     ]
    }
   ],
   "source": [
    "# Function to print evaluation metrics\n",
    "def print_metrics(y_true, y_pred):\n",
    "    print(f\"Accuracy: {accuracy_score(y_true, y_pred)}\")\n",
    "    print(f\"Precision: {precision_score(y_true, y_pred, average='weighted')}\")\n",
    "    print(f\"Recall: {recall_score(y_true, y_pred, average='weighted')}\")\n",
    "    print(f\"F1 Score: {f1_score(y_true, y_pred, average='weighted')}\")\n",
    "    print(f\"Confusion Matrix:\\n {confusion_matrix(y_true, y_pred)}\")\n",
    "\n",
    "print(\"CNN Model Performance:\")\n",
    "print_metrics(y_test, cnn_pred_classes)"
   ]
  }
 ],
 "metadata": {
  "kernelspec": {
   "display_name": ".venv",
   "language": "python",
   "name": "python3"
  },
  "language_info": {
   "codemirror_mode": {
    "name": "ipython",
    "version": 3
   },
   "file_extension": ".py",
   "mimetype": "text/x-python",
   "name": "python",
   "nbconvert_exporter": "python",
   "pygments_lexer": "ipython3",
   "version": "3.10.12"
  }
 },
 "nbformat": 4,
 "nbformat_minor": 2
}
