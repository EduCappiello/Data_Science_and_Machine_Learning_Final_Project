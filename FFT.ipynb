{
 "cells": [
  {
   "cell_type": "code",
   "execution_count": 1,
   "metadata": {},
   "outputs": [
    {
     "name": "stderr",
     "output_type": "stream",
     "text": [
      "2024-06-04 08:41:31.854956: I tensorflow/core/platform/cpu_feature_guard.cc:210] This TensorFlow binary is optimized to use available CPU instructions in performance-critical operations.\n",
      "To enable the following instructions: AVX2 FMA, in other operations, rebuild TensorFlow with the appropriate compiler flags.\n",
      "2024-06-04 08:41:32.505180: W tensorflow/compiler/tf2tensorrt/utils/py_utils.cc:38] TF-TRT Warning: Could not find TensorRT\n"
     ]
    }
   ],
   "source": [
    "import pandas as pd\n",
    "import numpy as np\n",
    "import glob\n",
    "import os\n",
    "import matplotlib.pyplot as plt\n",
    "from sklearn.model_selection import train_test_split\n",
    "from sklearn.preprocessing import StandardScaler, LabelEncoder\n",
    "from sklearn.svm import SVC\n",
    "from sklearn.metrics import accuracy_score, precision_score, recall_score, f1_score, confusion_matrix\n",
    "import tensorflow as tf\n",
    "from tensorflow.keras.models import Sequential\n",
    "from tensorflow.keras.layers import Conv1D, MaxPooling1D, Flatten, Dense, Dropout\n",
    "from tensorflow.keras.callbacks import EarlyStopping"
   ]
  },
  {
   "cell_type": "code",
   "execution_count": 2,
   "metadata": {},
   "outputs": [],
   "source": [
    "# Function to read the data\n",
    "def dataReader(path_names):\n",
    "    data_n = pd.DataFrame()\n",
    "    for path in path_names:\n",
    "        low_data = pd.read_csv(path, header=None)\n",
    "        data_n = pd.concat([data_n, low_data], ignore_index=True)\n",
    "    return data_n\n",
    "\n",
    "def downSampler(data, a, b):\n",
    "    \"\"\"\n",
    "    data = data\n",
    "    a = start index\n",
    "    b = sampling rate\n",
    "    \"\"\"\n",
    "    data_decreased = []\n",
    "    x = b\n",
    "    for i in range(int(len(data) / x)):\n",
    "        segment = data.iloc[a:b, :].sum() / x\n",
    "        data_decreased.append(segment)\n",
    "        a += x\n",
    "        b += x\n",
    "    return pd.DataFrame(data_decreased)"
   ]
  },
  {
   "cell_type": "code",
   "execution_count": 3,
   "metadata": {},
   "outputs": [],
   "source": [
    "# Define the database path\n",
    "database_path = '/home/ecappiell/datasets/full'  # Change this to the correct path\n",
    "\n",
    "# Dictionary to store directories with their corresponding descriptive names\n",
    "directory_info = {\n",
    "    'normal': glob.glob(database_path + '/normal/*.csv'),\n",
    "    'imbalance_6g': glob.glob(database_path + '/imbalance/6g/*.csv'),\n",
    "    'imbalance_10g': glob.glob(database_path + '/imbalance/10g/*.csv'),\n",
    "    'imbalance_15g': glob.glob(database_path + '/imbalance/15g/*.csv'),\n",
    "    'imbalance_20g': glob.glob(database_path + '/imbalance/20g/*.csv'),\n",
    "    'imbalance_25g': glob.glob(database_path + '/imbalance/25g/*.csv'),\n",
    "    'imbalance_30g': glob.glob(database_path + '/imbalance/30g/*.csv'),\n",
    "    'horizontal_05': glob.glob(database_path + '/horizontal-misalignment/0.5mm/*.csv'),\n",
    "    'horizontal_1': glob.glob(database_path + '/horizontal-misalignment/1.0mm/*.csv'),\n",
    "    'horizontal_15': glob.glob(database_path + '/horizontal-misalignment/1.5mm/*.csv'),\n",
    "    'horizontal_2': glob.glob(database_path + '/horizontal-misalignment/2.0mm/*.csv'),\n",
    "    'vertical_05': glob.glob(database_path + '/vertical-misalignment/0.51mm/*.csv'),\n",
    "    'vertical_063': glob.glob(database_path + '/vertical-misalignment/0.63mm/*.csv'),\n",
    "    'vertical_127': glob.glob(database_path + '/vertical-misalignment/1.27mm/*.csv'),\n",
    "    'vertical_140': glob.glob(database_path + '/vertical-misalignment/1.40mm/*.csv'),\n",
    "    'vertical_178': glob.glob(database_path + '/vertical-misalignment/1.78mm/*.csv'),\n",
    "    'vertical_19': glob.glob(database_path + '/vertical-misalignment/1.90mm/*.csv'),\n",
    "    'overhang_ball_0g': glob.glob(database_path + '/overhang/ball_fault/0g/*.csv'),\n",
    "    'overhang_ball_6g': glob.glob(database_path + '/overhang/ball_fault/6g/*.csv'),\n",
    "    'overhang_ball_20g': glob.glob(database_path + '/overhang/ball_fault/20g/*.csv'),\n",
    "    'overhang_ball_35g': glob.glob(database_path + '/overhang/ball_fault/35g/*.csv'),\n",
    "    'overhang_cage_0g': glob.glob(database_path + '/overhang/cage_fault/0g/*.csv'),\n",
    "    'overhang_cage_6g': glob.glob(database_path + '/overhang/cage_fault/6g/*.csv'),\n",
    "    'overhang_cage_20g': glob.glob(database_path + '/overhang/cage_fault/20g/*.csv'),\n",
    "    'overhang_cage_35g': glob.glob(database_path + '/overhang/cage_fault/35g/*.csv'),\n",
    "    'overhang_outer_0g': glob.glob(database_path + '/overhang/outer_race/0g/*.csv'),\n",
    "    'overhang_outer_6g': glob.glob(database_path + '/overhang/outer_race/6g/*.csv'),\n",
    "    'overhang_outer_20g': glob.glob(database_path + '/overhang/outer_race/20g/*.csv'),\n",
    "    'overhang_outer_35g': glob.glob(database_path + '/overhang/outer_race/35g/*.csv'),\n",
    "    'underhang_ball_0g': glob.glob(database_path + '/underhang/ball_fault/0g/*.csv'),\n",
    "    'underhang_ball_6g': glob.glob(database_path + '/underhang/ball_fault/6g/*.csv'),\n",
    "    'underhang_ball_20g': glob.glob(database_path + '/underhang/ball_fault/20g/*.csv'),\n",
    "    'underhang_ball_35g': glob.glob(database_path + '/underhang/ball_fault/35g/*.csv'),\n",
    "    'underhang_cage_0g': glob.glob(database_path + '/underhang/cage_fault/0g/*.csv'),\n",
    "    'underhang_cage_6g': glob.glob(database_path + '/underhang/cage_fault/6g/*.csv'),\n",
    "    'underhang_cage_20g': glob.glob(database_path + '/underhang/cage_fault/20g/*.csv'),\n",
    "    'underhang_cage_35g': glob.glob(database_path + '/underhang/cage_fault/35g/*.csv'),\n",
    "    'underhang_outer_0g': glob.glob(database_path + '/underhang/outer_race/0g/*.csv'),\n",
    "    'underhang_outer_6g': glob.glob(database_path + '/underhang/outer_race/6g/*.csv'),\n",
    "    'underhang_outer_20g': glob.glob(database_path + '/underhang/outer_race/20g/*.csv'),\n",
    "    'underhang_outer_35g': glob.glob(database_path + '/underhang/outer_race/35g/*.csv')\n",
    "}"
   ]
  },
  {
   "cell_type": "code",
   "execution_count": 4,
   "metadata": {},
   "outputs": [],
   "source": [
    "# Dictionary to store the data frames with their corresponding descriptive names\n",
    "data_frames = {}\n",
    "\n",
    "# Iterate through the directory_info dictionary and read the data, then downsample it\n",
    "for key, dir_csv_files in directory_info.items():\n",
    "    data_frame = dataReader(dir_csv_files)\n",
    "    data_frame_downsampled = downSampler(data_frame, 0, 5000)\n",
    "    data_frames[key] = data_frame_downsampled\n",
    "\n",
    "# Combine all the data into a single DataFrame with labels\n",
    "combined_data = pd.DataFrame()\n",
    "for label, df in data_frames.items():\n",
    "    df['label'] = label\n",
    "    combined_data = pd.concat([combined_data, df], ignore_index=True)\n",
    "\n",
    "# Shuffle the combined data\n",
    "combined_data = combined_data.sample(frac=1).reset_index(drop=True)\n",
    "\n",
    "# Separate features and labels\n",
    "X = combined_data.drop('label', axis=1).values\n",
    "y = combined_data['label'].values\n",
    "\n",
    "# Encode the labels to integers\n",
    "label_encoder = LabelEncoder()\n",
    "y_encoded = label_encoder.fit_transform(y)\n",
    "\n",
    "# Split the data into training and testing sets\n",
    "X_train, X_test, y_train, y_test = train_test_split(X, y_encoded, test_size=0.2, random_state=42)"
   ]
  },
  {
   "cell_type": "code",
   "execution_count": 5,
   "metadata": {},
   "outputs": [],
   "source": [
    "def apply_fft(data):\n",
    "    return np.abs(np.fft.fft(data, axis=1))\n",
    "\n",
    "\n",
    "# Apply FFT to the training and testing data\n",
    "X_train_fft = apply_fft(X_train)\n",
    "X_test_fft = apply_fft(X_test)\n",
    "\n",
    "# Standardize the features\n",
    "scaler = StandardScaler()\n",
    "X_train_fft = scaler.fit_transform(X_train_fft)\n",
    "X_test_fft = scaler.transform(X_test_fft)"
   ]
  },
  {
   "cell_type": "code",
   "execution_count": 6,
   "metadata": {},
   "outputs": [
    {
     "name": "stderr",
     "output_type": "stream",
     "text": [
      "/home/ecappiell/dev/.venv/lib/python3.10/site-packages/keras/src/layers/reshaping/flatten.py:37: UserWarning: Do not pass an `input_shape`/`input_dim` argument to a layer. When using Sequential models, prefer using an `Input(shape)` object as the first layer in the model instead.\n",
      "  super().__init__(**kwargs)\n",
      "2024-06-04 08:46:24.381489: I external/local_xla/xla/stream_executor/cuda/cuda_executor.cc:998] successful NUMA node read from SysFS had negative value (-1), but there must be at least one NUMA node, so returning NUMA node zero. See more at https://github.com/torvalds/linux/blob/v6.0/Documentation/ABI/testing/sysfs-bus-pci#L344-L355\n",
      "2024-06-04 08:46:24.404368: I external/local_xla/xla/stream_executor/cuda/cuda_executor.cc:998] successful NUMA node read from SysFS had negative value (-1), but there must be at least one NUMA node, so returning NUMA node zero. See more at https://github.com/torvalds/linux/blob/v6.0/Documentation/ABI/testing/sysfs-bus-pci#L344-L355\n",
      "2024-06-04 08:46:24.404526: I external/local_xla/xla/stream_executor/cuda/cuda_executor.cc:998] successful NUMA node read from SysFS had negative value (-1), but there must be at least one NUMA node, so returning NUMA node zero. See more at https://github.com/torvalds/linux/blob/v6.0/Documentation/ABI/testing/sysfs-bus-pci#L344-L355\n"
     ]
    },
    {
     "name": "stdout",
     "output_type": "stream",
     "text": [
      "Epoch 1/300\n"
     ]
    },
    {
     "name": "stderr",
     "output_type": "stream",
     "text": [
      "2024-06-04 08:46:24.405465: I external/local_xla/xla/stream_executor/cuda/cuda_executor.cc:998] successful NUMA node read from SysFS had negative value (-1), but there must be at least one NUMA node, so returning NUMA node zero. See more at https://github.com/torvalds/linux/blob/v6.0/Documentation/ABI/testing/sysfs-bus-pci#L344-L355\n",
      "2024-06-04 08:46:24.405584: I external/local_xla/xla/stream_executor/cuda/cuda_executor.cc:998] successful NUMA node read from SysFS had negative value (-1), but there must be at least one NUMA node, so returning NUMA node zero. See more at https://github.com/torvalds/linux/blob/v6.0/Documentation/ABI/testing/sysfs-bus-pci#L344-L355\n",
      "2024-06-04 08:46:24.405689: I external/local_xla/xla/stream_executor/cuda/cuda_executor.cc:998] successful NUMA node read from SysFS had negative value (-1), but there must be at least one NUMA node, so returning NUMA node zero. See more at https://github.com/torvalds/linux/blob/v6.0/Documentation/ABI/testing/sysfs-bus-pci#L344-L355\n",
      "2024-06-04 08:46:24.637046: I external/local_xla/xla/stream_executor/cuda/cuda_executor.cc:998] successful NUMA node read from SysFS had negative value (-1), but there must be at least one NUMA node, so returning NUMA node zero. See more at https://github.com/torvalds/linux/blob/v6.0/Documentation/ABI/testing/sysfs-bus-pci#L344-L355\n",
      "2024-06-04 08:46:24.637181: I external/local_xla/xla/stream_executor/cuda/cuda_executor.cc:998] successful NUMA node read from SysFS had negative value (-1), but there must be at least one NUMA node, so returning NUMA node zero. See more at https://github.com/torvalds/linux/blob/v6.0/Documentation/ABI/testing/sysfs-bus-pci#L344-L355\n",
      "2024-06-04 08:46:24.637296: I external/local_xla/xla/stream_executor/cuda/cuda_executor.cc:998] successful NUMA node read from SysFS had negative value (-1), but there must be at least one NUMA node, so returning NUMA node zero. See more at https://github.com/torvalds/linux/blob/v6.0/Documentation/ABI/testing/sysfs-bus-pci#L344-L355\n",
      "2024-06-04 08:46:24.637374: I tensorflow/core/common_runtime/gpu/gpu_device.cc:1928] Created device /job:localhost/replica:0/task:0/device:GPU:0 with 10230 MB memory:  -> device: 0, name: NVIDIA GeForce RTX 3080 Ti, pci bus id: 0000:09:00.0, compute capability: 8.6\n",
      "WARNING: All log messages before absl::InitializeLog() is called are written to STDERR\n",
      "I0000 00:00:1717490785.399887  675845 service.cc:145] XLA service 0x7f36c800d2d0 initialized for platform CUDA (this does not guarantee that XLA will be used). Devices:\n",
      "I0000 00:00:1717490785.399905  675845 service.cc:153]   StreamExecutor device (0): NVIDIA GeForce RTX 3080 Ti, Compute Capability 8.6\n",
      "2024-06-04 08:46:25.419866: I tensorflow/compiler/mlir/tensorflow/utils/dump_mlir_util.cc:268] disabling MLIR crash reproducer, set env var `MLIR_CRASH_REPRODUCER_DIRECTORY` to enable.\n",
      "2024-06-04 08:46:25.512772: I external/local_xla/xla/stream_executor/cuda/cuda_dnn.cc:465] Loaded cuDNN version 8907\n"
     ]
    },
    {
     "name": "stdout",
     "output_type": "stream",
     "text": [
      "\u001b[1m 238/1906\u001b[0m \u001b[32m━━\u001b[0m\u001b[37m━━━━━━━━━━━━━━━━━━\u001b[0m \u001b[1m1s\u001b[0m 636us/step - accuracy: 0.0302 - loss: 3.7022"
     ]
    },
    {
     "name": "stderr",
     "output_type": "stream",
     "text": [
      "WARNING: All log messages before absl::InitializeLog() is called are written to STDERR\n",
      "I0000 00:00:1717490788.286424  675845 asm_compiler.cc:369] ptxas warning : Registers are spilled to local memory in function 'input_slice_fusion_1', 4 bytes spill stores, 4 bytes spill loads\n",
      "\n",
      "I0000 00:00:1717490788.290598  675845 device_compiler.h:188] Compiled cluster using XLA!  This line is logged at most once for the lifetime of the process.\n"
     ]
    },
    {
     "name": "stdout",
     "output_type": "stream",
     "text": [
      "\u001b[1m1887/1906\u001b[0m \u001b[32m━━━━━━━━━━━━━━━━━━━\u001b[0m\u001b[37m━\u001b[0m \u001b[1m0s\u001b[0m 614us/step - accuracy: 0.0548 - loss: 3.5229"
     ]
    },
    {
     "name": "stderr",
     "output_type": "stream",
     "text": [
      "I0000 00:00:1717490790.078561  676117 asm_compiler.cc:369] ptxas warning : Registers are spilled to local memory in function 'triton_gemm_dot_39', 192 bytes spill stores, 192 bytes spill loads\n",
      "\n"
     ]
    },
    {
     "name": "stdout",
     "output_type": "stream",
     "text": [
      "\u001b[1m1906/1906\u001b[0m \u001b[32m━━━━━━━━━━━━━━━━━━━━\u001b[0m\u001b[37m\u001b[0m \u001b[1m8s\u001b[0m 2ms/step - accuracy: 0.0550 - loss: 3.5215 - val_accuracy: 0.1081 - val_loss: 3.1625\n",
      "Epoch 2/300\n",
      "\u001b[1m1906/1906\u001b[0m \u001b[32m━━━━━━━━━━━━━━━━━━━━\u001b[0m\u001b[37m\u001b[0m \u001b[1m1s\u001b[0m 716us/step - accuracy: 0.0988 - loss: 3.1942 - val_accuracy: 0.1169 - val_loss: 3.0714\n",
      "Epoch 3/300\n",
      "\u001b[1m1906/1906\u001b[0m \u001b[32m━━━━━━━━━━━━━━━━━━━━\u001b[0m\u001b[37m\u001b[0m \u001b[1m1s\u001b[0m 726us/step - accuracy: 0.1067 - loss: 3.1233 - val_accuracy: 0.1183 - val_loss: 3.0552\n",
      "Epoch 4/300\n",
      "\u001b[1m1906/1906\u001b[0m \u001b[32m━━━━━━━━━━━━━━━━━━━━\u001b[0m\u001b[37m\u001b[0m \u001b[1m1s\u001b[0m 736us/step - accuracy: 0.1105 - loss: 3.1282 - val_accuracy: 0.1278 - val_loss: 3.0003\n",
      "Epoch 5/300\n",
      "\u001b[1m1906/1906\u001b[0m \u001b[32m━━━━━━━━━━━━━━━━━━━━\u001b[0m\u001b[37m\u001b[0m \u001b[1m1s\u001b[0m 725us/step - accuracy: 0.1157 - loss: 3.0676 - val_accuracy: 0.1224 - val_loss: 2.9946\n",
      "Epoch 6/300\n",
      "\u001b[1m1906/1906\u001b[0m \u001b[32m━━━━━━━━━━━━━━━━━━━━\u001b[0m\u001b[37m\u001b[0m \u001b[1m1s\u001b[0m 716us/step - accuracy: 0.1143 - loss: 3.0523 - val_accuracy: 0.1294 - val_loss: 2.9875\n",
      "Epoch 7/300\n",
      "\u001b[1m1906/1906\u001b[0m \u001b[32m━━━━━━━━━━━━━━━━━━━━\u001b[0m\u001b[37m\u001b[0m \u001b[1m1s\u001b[0m 719us/step - accuracy: 0.1167 - loss: 3.0512 - val_accuracy: 0.1319 - val_loss: 2.9806\n",
      "Epoch 8/300\n",
      "\u001b[1m1906/1906\u001b[0m \u001b[32m━━━━━━━━━━━━━━━━━━━━\u001b[0m\u001b[37m\u001b[0m \u001b[1m1s\u001b[0m 714us/step - accuracy: 0.1188 - loss: 3.0400 - val_accuracy: 0.1326 - val_loss: 2.9648\n",
      "Epoch 9/300\n",
      "\u001b[1m1906/1906\u001b[0m \u001b[32m━━━━━━━━━━━━━━━━━━━━\u001b[0m\u001b[37m\u001b[0m \u001b[1m1s\u001b[0m 729us/step - accuracy: 0.1190 - loss: 3.0441 - val_accuracy: 0.1333 - val_loss: 2.9553\n",
      "Epoch 10/300\n",
      "\u001b[1m1906/1906\u001b[0m \u001b[32m━━━━━━━━━━━━━━━━━━━━\u001b[0m\u001b[37m\u001b[0m \u001b[1m1s\u001b[0m 707us/step - accuracy: 0.1170 - loss: 3.0324 - val_accuracy: 0.1306 - val_loss: 2.9505\n",
      "Epoch 11/300\n",
      "\u001b[1m1906/1906\u001b[0m \u001b[32m━━━━━━━━━━━━━━━━━━━━\u001b[0m\u001b[37m\u001b[0m \u001b[1m1s\u001b[0m 723us/step - accuracy: 0.1223 - loss: 3.0168 - val_accuracy: 0.1366 - val_loss: 2.9494\n",
      "Epoch 12/300\n",
      "\u001b[1m1906/1906\u001b[0m \u001b[32m━━━━━━━━━━━━━━━━━━━━\u001b[0m\u001b[37m\u001b[0m \u001b[1m1s\u001b[0m 733us/step - accuracy: 0.1201 - loss: 3.0215 - val_accuracy: 0.1350 - val_loss: 2.9448\n",
      "Epoch 13/300\n",
      "\u001b[1m1906/1906\u001b[0m \u001b[32m━━━━━━━━━━━━━━━━━━━━\u001b[0m\u001b[37m\u001b[0m \u001b[1m1s\u001b[0m 715us/step - accuracy: 0.1238 - loss: 3.0045 - val_accuracy: 0.1373 - val_loss: 2.9257\n",
      "Epoch 14/300\n",
      "\u001b[1m1906/1906\u001b[0m \u001b[32m━━━━━━━━━━━━━━━━━━━━\u001b[0m\u001b[37m\u001b[0m \u001b[1m1s\u001b[0m 722us/step - accuracy: 0.1214 - loss: 3.0049 - val_accuracy: 0.1361 - val_loss: 2.9350\n",
      "Epoch 15/300\n",
      "\u001b[1m1906/1906\u001b[0m \u001b[32m━━━━━━━━━━━━━━━━━━━━\u001b[0m\u001b[37m\u001b[0m \u001b[1m1s\u001b[0m 725us/step - accuracy: 0.1266 - loss: 3.0057 - val_accuracy: 0.1329 - val_loss: 2.9358\n",
      "Epoch 16/300\n",
      "\u001b[1m1906/1906\u001b[0m \u001b[32m━━━━━━━━━━━━━━━━━━━━\u001b[0m\u001b[37m\u001b[0m \u001b[1m1s\u001b[0m 727us/step - accuracy: 0.1247 - loss: 3.0042 - val_accuracy: 0.1373 - val_loss: 2.9357\n",
      "Epoch 17/300\n",
      "\u001b[1m1906/1906\u001b[0m \u001b[32m━━━━━━━━━━━━━━━━━━━━\u001b[0m\u001b[37m\u001b[0m \u001b[1m1s\u001b[0m 715us/step - accuracy: 0.1215 - loss: 3.0095 - val_accuracy: 0.1394 - val_loss: 2.9261\n",
      "Epoch 18/300\n",
      "\u001b[1m1906/1906\u001b[0m \u001b[32m━━━━━━━━━━━━━━━━━━━━\u001b[0m\u001b[37m\u001b[0m \u001b[1m1s\u001b[0m 718us/step - accuracy: 0.1208 - loss: 3.0076 - val_accuracy: 0.1347 - val_loss: 2.9263\n",
      "Epoch 19/300\n",
      "\u001b[1m1906/1906\u001b[0m \u001b[32m━━━━━━━━━━━━━━━━━━━━\u001b[0m\u001b[37m\u001b[0m \u001b[1m1s\u001b[0m 710us/step - accuracy: 0.1241 - loss: 2.9953 - val_accuracy: 0.1327 - val_loss: 2.9395\n",
      "Epoch 20/300\n",
      "\u001b[1m1906/1906\u001b[0m \u001b[32m━━━━━━━━━━━━━━━━━━━━\u001b[0m\u001b[37m\u001b[0m \u001b[1m1s\u001b[0m 728us/step - accuracy: 0.1232 - loss: 3.0114 - val_accuracy: 0.1352 - val_loss: 2.9266\n",
      "Epoch 21/300\n",
      "\u001b[1m1906/1906\u001b[0m \u001b[32m━━━━━━━━━━━━━━━━━━━━\u001b[0m\u001b[37m\u001b[0m \u001b[1m1s\u001b[0m 722us/step - accuracy: 0.1258 - loss: 3.0110 - val_accuracy: 0.1380 - val_loss: 2.9252\n",
      "Epoch 22/300\n",
      "\u001b[1m1906/1906\u001b[0m \u001b[32m━━━━━━━━━━━━━━━━━━━━\u001b[0m\u001b[37m\u001b[0m \u001b[1m1s\u001b[0m 712us/step - accuracy: 0.1251 - loss: 2.9952 - val_accuracy: 0.1372 - val_loss: 2.9340\n",
      "Epoch 23/300\n",
      "\u001b[1m1906/1906\u001b[0m \u001b[32m━━━━━━━━━━━━━━━━━━━━\u001b[0m\u001b[37m\u001b[0m \u001b[1m1s\u001b[0m 716us/step - accuracy: 0.1245 - loss: 2.9992 - val_accuracy: 0.1350 - val_loss: 2.9240\n",
      "Epoch 24/300\n",
      "\u001b[1m1906/1906\u001b[0m \u001b[32m━━━━━━━━━━━━━━━━━━━━\u001b[0m\u001b[37m\u001b[0m \u001b[1m1s\u001b[0m 734us/step - accuracy: 0.1258 - loss: 2.9957 - val_accuracy: 0.1383 - val_loss: 2.9237\n",
      "Epoch 25/300\n",
      "\u001b[1m1906/1906\u001b[0m \u001b[32m━━━━━━━━━━━━━━━━━━━━\u001b[0m\u001b[37m\u001b[0m \u001b[1m1s\u001b[0m 691us/step - accuracy: 0.1281 - loss: 2.9881 - val_accuracy: 0.1402 - val_loss: 2.9155\n",
      "Epoch 26/300\n",
      "\u001b[1m1906/1906\u001b[0m \u001b[32m━━━━━━━━━━━━━━━━━━━━\u001b[0m\u001b[37m\u001b[0m \u001b[1m1s\u001b[0m 711us/step - accuracy: 0.1274 - loss: 2.9862 - val_accuracy: 0.1402 - val_loss: 2.9203\n",
      "Epoch 27/300\n",
      "\u001b[1m1906/1906\u001b[0m \u001b[32m━━━━━━━━━━━━━━━━━━━━\u001b[0m\u001b[37m\u001b[0m \u001b[1m1s\u001b[0m 723us/step - accuracy: 0.1272 - loss: 2.9884 - val_accuracy: 0.1367 - val_loss: 2.9236\n",
      "Epoch 28/300\n",
      "\u001b[1m1906/1906\u001b[0m \u001b[32m━━━━━━━━━━━━━━━━━━━━\u001b[0m\u001b[37m\u001b[0m \u001b[1m1s\u001b[0m 716us/step - accuracy: 0.1290 - loss: 2.9829 - val_accuracy: 0.1368 - val_loss: 2.9310\n",
      "Epoch 29/300\n",
      "\u001b[1m1906/1906\u001b[0m \u001b[32m━━━━━━━━━━━━━━━━━━━━\u001b[0m\u001b[37m\u001b[0m \u001b[1m1s\u001b[0m 725us/step - accuracy: 0.1270 - loss: 2.9940 - val_accuracy: 0.1377 - val_loss: 2.9226\n",
      "Epoch 30/300\n",
      "\u001b[1m1906/1906\u001b[0m \u001b[32m━━━━━━━━━━━━━━━━━━━━\u001b[0m\u001b[37m\u001b[0m \u001b[1m1s\u001b[0m 716us/step - accuracy: 0.1275 - loss: 2.9879 - val_accuracy: 0.1358 - val_loss: 2.9191\n",
      "Epoch 31/300\n",
      "\u001b[1m1906/1906\u001b[0m \u001b[32m━━━━━━━━━━━━━━━━━━━━\u001b[0m\u001b[37m\u001b[0m \u001b[1m1s\u001b[0m 723us/step - accuracy: 0.1276 - loss: 2.9888 - val_accuracy: 0.1387 - val_loss: 2.9282\n",
      "Epoch 32/300\n",
      "\u001b[1m1906/1906\u001b[0m \u001b[32m━━━━━━━━━━━━━━━━━━━━\u001b[0m\u001b[37m\u001b[0m \u001b[1m1s\u001b[0m 721us/step - accuracy: 0.1273 - loss: 2.9911 - val_accuracy: 0.1351 - val_loss: 2.9212\n",
      "Epoch 33/300\n",
      "\u001b[1m1906/1906\u001b[0m \u001b[32m━━━━━━━━━━━━━━━━━━━━\u001b[0m\u001b[37m\u001b[0m \u001b[1m1s\u001b[0m 724us/step - accuracy: 0.1271 - loss: 2.9846 - val_accuracy: 0.1360 - val_loss: 2.9286\n",
      "Epoch 34/300\n",
      "\u001b[1m1906/1906\u001b[0m \u001b[32m━━━━━━━━━━━━━━━━━━━━\u001b[0m\u001b[37m\u001b[0m \u001b[1m1s\u001b[0m 718us/step - accuracy: 0.1287 - loss: 2.9816 - val_accuracy: 0.1436 - val_loss: 2.9111\n",
      "Epoch 35/300\n",
      "\u001b[1m1906/1906\u001b[0m \u001b[32m━━━━━━━━━━━━━━━━━━━━\u001b[0m\u001b[37m\u001b[0m \u001b[1m1s\u001b[0m 701us/step - accuracy: 0.1323 - loss: 2.9840 - val_accuracy: 0.1383 - val_loss: 2.9333\n",
      "Epoch 36/300\n",
      "\u001b[1m1906/1906\u001b[0m \u001b[32m━━━━━━━━━━━━━━━━━━━━\u001b[0m\u001b[37m\u001b[0m \u001b[1m1s\u001b[0m 713us/step - accuracy: 0.1268 - loss: 2.9909 - val_accuracy: 0.1368 - val_loss: 2.9268\n",
      "Epoch 37/300\n",
      "\u001b[1m1906/1906\u001b[0m \u001b[32m━━━━━━━━━━━━━━━━━━━━\u001b[0m\u001b[37m\u001b[0m \u001b[1m1s\u001b[0m 717us/step - accuracy: 0.1292 - loss: 2.9798 - val_accuracy: 0.1371 - val_loss: 2.9209\n",
      "Epoch 38/300\n",
      "\u001b[1m1906/1906\u001b[0m \u001b[32m━━━━━━━━━━━━━━━━━━━━\u001b[0m\u001b[37m\u001b[0m \u001b[1m1s\u001b[0m 738us/step - accuracy: 0.1294 - loss: 2.9888 - val_accuracy: 0.1358 - val_loss: 2.9357\n",
      "Epoch 39/300\n",
      "\u001b[1m1906/1906\u001b[0m \u001b[32m━━━━━━━━━━━━━━━━━━━━\u001b[0m\u001b[37m\u001b[0m \u001b[1m1s\u001b[0m 714us/step - accuracy: 0.1322 - loss: 2.9727 - val_accuracy: 0.1406 - val_loss: 2.9260\n",
      "Epoch 40/300\n",
      "\u001b[1m1906/1906\u001b[0m \u001b[32m━━━━━━━━━━━━━━━━━━━━\u001b[0m\u001b[37m\u001b[0m \u001b[1m1s\u001b[0m 706us/step - accuracy: 0.1272 - loss: 2.9833 - val_accuracy: 0.1403 - val_loss: 2.9229\n",
      "Epoch 41/300\n",
      "\u001b[1m1906/1906\u001b[0m \u001b[32m━━━━━━━━━━━━━━━━━━━━\u001b[0m\u001b[37m\u001b[0m \u001b[1m1s\u001b[0m 712us/step - accuracy: 0.1274 - loss: 2.9812 - val_accuracy: 0.1365 - val_loss: 2.9260\n",
      "Epoch 42/300\n",
      "\u001b[1m1906/1906\u001b[0m \u001b[32m━━━━━━━━━━━━━━━━━━━━\u001b[0m\u001b[37m\u001b[0m \u001b[1m1s\u001b[0m 726us/step - accuracy: 0.1287 - loss: 2.9849 - val_accuracy: 0.1365 - val_loss: 2.9190\n",
      "Epoch 43/300\n",
      "\u001b[1m1906/1906\u001b[0m \u001b[32m━━━━━━━━━━━━━━━━━━━━\u001b[0m\u001b[37m\u001b[0m \u001b[1m1s\u001b[0m 741us/step - accuracy: 0.1299 - loss: 2.9751 - val_accuracy: 0.1382 - val_loss: 2.9202\n",
      "Epoch 44/300\n",
      "\u001b[1m1906/1906\u001b[0m \u001b[32m━━━━━━━━━━━━━━━━━━━━\u001b[0m\u001b[37m\u001b[0m \u001b[1m1s\u001b[0m 719us/step - accuracy: 0.1287 - loss: 2.9800 - val_accuracy: 0.1371 - val_loss: 2.9287\n"
     ]
    }
   ],
   "source": [
    "# Define the 1-D CNN model\n",
    "def create_cnn_model(input_shape):\n",
    "    model = Sequential([\n",
    "        Flatten(input_shape=input_shape),\n",
    "        Dense(1024, activation='relu'),\n",
    "        Dropout(0.5),\n",
    "        Dense(512, activation='relu'),\n",
    "        Dropout(0.5),\n",
    "        Dense(256, activation='relu'),\n",
    "        Dropout(0.5),\n",
    "        Dense(128, activation='relu'),\n",
    "        Dense(len(np.unique(y_encoded)), activation='softmax')\n",
    "    ])\n",
    "    model.compile(optimizer='adam', loss='sparse_categorical_crossentropy', metrics=['accuracy'])\n",
    "    return model\n",
    "\n",
    "# Reshape data for CNN input\n",
    "X_train_cnn = X_train_fft[..., np.newaxis]\n",
    "X_test_cnn = X_test_fft[..., np.newaxis]\n",
    "\n",
    "cnn_model = create_cnn_model(X_train_cnn.shape[1:])\n",
    "early_stopping = EarlyStopping(monitor='val_loss', patience=10, restore_best_weights=True)\n",
    "history = cnn_model.fit(X_train_cnn, y_train, epochs=300, validation_split=0.2, callbacks=[early_stopping])"
   ]
  },
  {
   "cell_type": "code",
   "execution_count": 7,
   "metadata": {},
   "outputs": [
    {
     "data": {
      "image/png": "[encoded data removed]",
      "text/plain": [
       "<Figure size 1200x400 with 2 Axes>"
      ]
     },
     "metadata": {},
     "output_type": "display_data"
    }
   ],
   "source": [
    "# Plot accuracy and loss\n",
    "plt.figure(figsize=(12, 4))\n",
    "plt.subplot(1, 2, 1)\n",
    "plt.plot(history.history['accuracy'], label='train accuracy')\n",
    "plt.plot(history.history['val_accuracy'], label='val accuracy')\n",
    "plt.legend()\n",
    "plt.title('Accuracy')\n",
    "\n",
    "plt.subplot(1, 2, 2)\n",
    "plt.plot(history.history['loss'], label='train loss')\n",
    "plt.plot(history.history['val_loss'], label='val loss')\n",
    "plt.legend()\n",
    "plt.title('Loss')\n",
    "\n",
    "plt.show()"
   ]
  },
  {
   "cell_type": "code",
   "execution_count": 8,
   "metadata": {},
   "outputs": [
    {
     "name": "stdout",
     "output_type": "stream",
     "text": [
      "\u001b[1m580/596\u001b[0m \u001b[32m━━━━━━━━━━━━━━━━━━━\u001b[0m\u001b[37m━\u001b[0m \u001b[1m0s\u001b[0m 434us/step"
     ]
    },
    {
     "name": "stderr",
     "output_type": "stream",
     "text": [
      "I0000 00:00:1717490853.496897  680082 asm_compiler.cc:369] ptxas warning : Registers are spilled to local memory in function 'triton_gemm_dot_21', 260 bytes spill stores, 260 bytes spill loads\n",
      "\n"
     ]
    },
    {
     "name": "stdout",
     "output_type": "stream",
     "text": [
      "\u001b[1m596/596\u001b[0m \u001b[32m━━━━━━━━━━━━━━━━━━━━\u001b[0m\u001b[37m\u001b[0m \u001b[1m2s\u001b[0m 3ms/step\n"
     ]
    }
   ],
   "source": [
    "# Evaluate the CNN model\n",
    "cnn_pred = cnn_model.predict(X_test_cnn)\n",
    "cnn_pred_classes = np.argmax(cnn_pred, axis=1)"
   ]
  },
  {
   "cell_type": "code",
   "execution_count": 9,
   "metadata": {},
   "outputs": [
    {
     "name": "stdout",
     "output_type": "stream",
     "text": [
      "CNN Model Performance:\n",
      "Accuracy: 0.13777544596012592\n",
      "Precision: 0.14228148654123038\n",
      "Recall: 0.13777544596012592\n",
      "F1 Score: 0.1132223960293347\n",
      "Confusion Matrix:\n",
      " [[ 64  51  28 ...   0   6   6]\n",
      " [ 20  80   3 ...   0   4   7]\n",
      " [ 53  46  89 ...   0  15   3]\n",
      " ...\n",
      " [  2  13   2 ...   1 117  55]\n",
      " [  3   2   6 ...   0 136  71]\n",
      " [  2   3   2 ...   0 137  87]]\n"
     ]
    }
   ],
   "source": [
    "# Function to print evaluation metrics\n",
    "def print_metrics(y_true, y_pred):\n",
    "    print(f\"Accuracy: {accuracy_score(y_true, y_pred)}\")\n",
    "    print(f\"Precision: {precision_score(y_true, y_pred, average='weighted')}\")\n",
    "    print(f\"Recall: {recall_score(y_true, y_pred, average='weighted')}\")\n",
    "    print(f\"F1 Score: {f1_score(y_true, y_pred, average='weighted')}\")\n",
    "    print(f\"Confusion Matrix:\\n {confusion_matrix(y_true, y_pred)}\")\n",
    "\n",
    "print(\"CNN Model Performance:\")\n",
    "print_metrics(y_test, cnn_pred_classes)"
   ]
  }
 ],
 "metadata": {
  "kernelspec": {
   "display_name": ".venv",
   "language": "python",
   "name": "python3"
  },
  "language_info": {
   "codemirror_mode": {
    "name": "ipython",
    "version": 3
   },
   "file_extension": ".py",
   "mimetype": "text/x-python",
   "name": "python",
   "nbconvert_exporter": "python",
   "pygments_lexer": "ipython3",
   "version": "3.10.12"
  }
 },
 "nbformat": 4,
 "nbformat_minor": 2
}
